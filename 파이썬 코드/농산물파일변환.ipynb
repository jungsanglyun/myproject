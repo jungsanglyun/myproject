{
 "cells": [
  {
   "cell_type": "code",
   "execution_count": 9,
   "id": "e9e21fa9",
   "metadata": {},
   "outputs": [
    {
     "name": "stdout",
     "output_type": "stream",
     "text": [
      "농산물 2020쌀변환완료\n",
      "농산물 2020콩변환완료\n",
      "농산물 2020팥변환완료\n",
      "농산물 2020고구마변환완료\n",
      "농산물 2020감자변환완료\n",
      "농산물 2020시금치변환완료\n",
      "농산물 2020열무변환완료\n",
      "농산물 2020대파변환완료\n",
      "농산물 2021쌀변환완료\n",
      "농산물 2021콩변환완료\n",
      "농산물 2021팥변환완료\n",
      "농산물 2021고구마변환완료\n",
      "농산물 2021감자변환완료\n",
      "농산물 2021시금치변환완료\n",
      "농산물 2021열무변환완료\n",
      "농산물 2021대파변환완료\n"
     ]
    }
   ],
   "source": [
    "#다운로드된 파일 xlsx로 변환\n",
    "import win32com.client as win32\n",
    "from dateutil.relativedelta import relativedelta\n",
    "from datetime import datetime\n",
    "from nltk.tokenize import word_tokenize\n",
    "\n",
    "now = datetime.now()\n",
    "\n",
    "today_str=str(now)\n",
    "today_day_and_time=[]\n",
    "today_day_and_time=word_tokenize(today_str)\n",
    "today_day=today_day_and_time[0].split('-')\n",
    "\n",
    "year=today_day[0] # 현재년\n",
    "month=today_day[1]# 현재월\n",
    "day=today_day[2]# 현재일\n",
    "\n",
    "\n",
    "before_one_year = now - relativedelta(years=1)\n",
    "\n",
    "before_today_str=str(before_one_year)\n",
    "before_day_and_time=[]\n",
    "before_day_and_time=word_tokenize(before_today_str)\n",
    "beforey_day=before_day_and_time[0].split('-')\n",
    "\n",
    "before_year=beforey_day[0]# 저번년\n",
    "before_month=beforey_day[1]# 저번월\n",
    "before_day=beforey_day[2]# 저번일\n",
    "\n",
    "kindcode=['쌀','콩','팥','고구마','감자','시금치','열무','대파']\n",
    "\n",
    "link=\"C:\\\\Users\\\\0\\\\농산물 \" #여러분들의 xls 파일이 있는 경로\n",
    "\n",
    "for a in range(2):\n",
    "    i=0\n",
    "    if a==0:\n",
    "        for i in range(len(kindcode)):\n",
    "            fname=link+before_year+kindcode[i]+\".xls\"\n",
    "            excel=win32.gencache.EnsureDispatch('Excel.Application')\n",
    "            wb = excel.Workbooks.Open(fname)\n",
    "            wb.SaveAs(fname+\"x\",FileFormat=51)\n",
    "            wb.Close()\n",
    "            excel.Application.Quit()\n",
    "            print('농산물 '+before_year+kindcode[i]+'변환완료')\n",
    "\n",
    "    elif a==1:\n",
    "        for i in range(len(kindcode)):\n",
    "            fname=link+year+kindcode[i]+\".xls\"\n",
    "            excel=win32.gencache.EnsureDispatch('Excel.Application')\n",
    "            wb = excel.Workbooks.Open(fname)\n",
    "            wb.SaveAs(fname+\"x\",FileFormat=51)\n",
    "            wb.Close()\n",
    "            excel.Application.Quit()\n",
    "            print('농산물 '+year+kindcode[i]+'변환완료')"
   ]
  }
 ],
 "metadata": {
  "kernelspec": {
   "display_name": "Python 3 (ipykernel)",
   "language": "python",
   "name": "python3"
  },
  "language_info": {
   "codemirror_mode": {
    "name": "ipython",
    "version": 3
   },
   "file_extension": ".py",
   "mimetype": "text/x-python",
   "name": "python",
   "nbconvert_exporter": "python",
   "pygments_lexer": "ipython3",
   "version": "3.8.8"
  }
 },
 "nbformat": 4,
 "nbformat_minor": 5
}
